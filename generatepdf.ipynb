{
 "cells": [
  {
   "cell_type": "code",
   "execution_count": 1,
   "metadata": {},
   "outputs": [
    {
     "name": "stdout",
     "output_type": "stream",
     "text": [
      "Collecting PyMuPDF\n",
      "  Downloading pymupdf-1.25.5-cp39-abi3-manylinux2014_x86_64.manylinux_2_17_x86_64.whl.metadata (3.4 kB)\n",
      "Collecting pylatex\n",
      "  Downloading PyLaTeX-1.4.2.tar.gz (59 kB)\n",
      "  Installing build dependencies ... \u001b[?25ldone\n",
      "\u001b[?25h  Getting requirements to build wheel ... \u001b[?25ldone\n",
      "\u001b[?25h  Preparing metadata (pyproject.toml) ... \u001b[?25ldone\n",
      "\u001b[?25hCollecting ordered-set (from pylatex)\n",
      "  Downloading ordered_set-4.1.0-py3-none-any.whl.metadata (5.3 kB)\n",
      "Downloading pymupdf-1.25.5-cp39-abi3-manylinux2014_x86_64.manylinux_2_17_x86_64.whl (20.0 MB)\n",
      "\u001b[2K   \u001b[38;2;114;156;31m━━━━━━━━━━━━━━━━━━━━━━━━━━━━━━━━━━━━━━━━\u001b[0m \u001b[32m20.0/20.0 MB\u001b[0m \u001b[31m412.1 kB/s\u001b[0m eta \u001b[36m0:00:00\u001b[0mm eta \u001b[36m0:00:01\u001b[0m0:03\u001b[0m:05\u001b[0m\n",
      "\u001b[?25hDownloading ordered_set-4.1.0-py3-none-any.whl (7.6 kB)\n",
      "Building wheels for collected packages: pylatex\n",
      "  Building wheel for pylatex (pyproject.toml) ... \u001b[?25ldone\n",
      "\u001b[?25h  Created wheel for pylatex: filename=pylatex-1.4.2-py3-none-any.whl size=43653 sha256=a301e1d1bd50dbf05e579edafc5bc4a89974c30cd813479a9d1290d540987029\n",
      "  Stored in directory: /home/boba/.cache/pip/wheels/83/9c/f8/a20a091049a38fe46964928b48586671ce73a1215c501a21a9\n",
      "Successfully built pylatex\n",
      "Installing collected packages: PyMuPDF, ordered-set, pylatex\n",
      "Successfully installed PyMuPDF-1.25.5 ordered-set-4.1.0 pylatex-1.4.2\n"
     ]
    }
   ],
   "source": [
    "!pip install PyMuPDF pylatex\n",
    "# For LaTeX engine\n"
   ]
  },
  {
   "cell_type": "markdown",
   "metadata": {},
   "source": [
    "# run the following in terminal"
   ]
  },
  {
   "cell_type": "code",
   "execution_count": null,
   "metadata": {},
   "outputs": [],
   "source": [
    "# sudo apt-get install texlive-full"
   ]
  },
  {
   "cell_type": "markdown",
   "metadata": {},
   "source": [
    "# generation"
   ]
  },
  {
   "cell_type": "code",
   "execution_count": 15,
   "metadata": {},
   "outputs": [],
   "source": [
    "import re\n",
    "import fitz  # PyMuPDF\n",
    "from pylatex import Document, Section, Subsection, Command\n",
    "from pylatex.utils import NoEscape\n",
    "from typing import List, Dict\n",
    "\n",
    "# STEP 1: Parse clause numbers using regex\n",
    "def parse_clauses_by_number(text: str) -> Dict[str, str]:\n",
    "    # Matches things like 2/3/1 or 1.1.1 or 2.4/3 etc.\n",
    "    pattern = re.compile(r\"(?<=\\n)(\\d+(?:[/\\.]\\d+)+)\\s+(.*?)(?=\\n\\d|$)\", re.DOTALL)\n",
    "    clauses = {}\n",
    "    for match in pattern.finditer(text):\n",
    "        clause_id = match.group(1).strip()\n",
    "        clause_text = match.group(2).strip().replace('\\n', ' ')\n",
    "        clauses[clause_id] = clause_text\n",
    "    return clauses\n",
    "import os\n",
    "\n",
    "def generate_updated_standard_pdf(original_pdf_path: str, enhancements: List[Dict], output_path: str):\n",
    "    # Ensure output directory exists\n",
    "    output_dir = os.path.dirname(output_path)\n",
    "    if output_dir and not os.path.exists(output_dir):\n",
    "        os.makedirs(output_dir)\n",
    "\n",
    "    # Start LaTeX document\n",
    "    doc = Document(\"AAOIFI_Enhanced_Standard\")\n",
    "\n",
    "    # Step 1: Extract text from PDF\n",
    "    with fitz.open(original_pdf_path) as pdf:\n",
    "        full_text = \"\"\n",
    "        for page in pdf:\n",
    "            full_text += page.get_text()\n",
    "\n",
    "    # Step 2: Parse by clauses\n",
    "    clauses = parse_clauses_by_number(full_text)\n",
    "\n",
    "    # Step 3: Apply enhancements\n",
    "    for enhancement in enhancements:\n",
    "        clause_id = enhancement['clause_id']\n",
    "        if clause_id in clauses:\n",
    "            print(f\"Enhancing clause: {clause_id}\")\n",
    "            clauses[clause_id] = enhancement['proposed_text']\n",
    "\n",
    "    # Step 4: Write structured content\n",
    "    with doc.create(Section(\"AAOIFI Standard (Enhanced)\")):\n",
    "        for clause_id in sorted(clauses):\n",
    "            with doc.create(Subsection(f\"Clause {clause_id}\")):\n",
    "                doc.append(NoEscape(clauses[clause_id]))\n",
    "\n",
    "    # Step 5: Generate PDF\n",
    "    doc.generate_pdf(output_path, clean_tex=False)\n",
    "    print(f\"\\n✅ Enhanced standard PDF saved to: {output_path}.pdf\")\n"
   ]
  },
  {
   "cell_type": "code",
   "execution_count": 17,
   "metadata": {},
   "outputs": [
    {
     "name": "stdout",
     "output_type": "stream",
     "text": [
      "Enhancing clause: 2/4/1\n",
      "Enhancing clause: 2/5/2\n",
      "\n",
      "✅ Enhanced standard PDF saved to: output/FAS4_Enhanced2.pdf\n"
     ]
    }
   ],
   "source": [
    "enhancements = [\n",
    "    {\n",
    "        \"clause_id\": \"2/4/1\",\n",
    "        \"proposed_text\": \"Profits or losses in respect of Musharaka transactions should be recognized immediately upon agreement, not just at liquidation. This enhances transparency and compliance with Shariah accountability.\"\n",
    "    },\n",
    "    {\n",
    "        \"clause_id\": \"2/5/2\",\n",
    "        \"proposed_text\": \"The disclosure requirements should explicitly include Shariah review board comments and compliance notes in the financial statements.\"\n",
    "    }\n",
    "]\n",
    "\n",
    "generate_updated_standard_pdf(\n",
    "    original_pdf_path='data/standards/FI5F55_1_Musharaka Financing(4).PDF',\n",
    "    enhancements=enhancements,\n",
    "    output_path='output/FAS4_Enhanced2'\n",
    ")\n"
   ]
  },
  {
   "cell_type": "code",
   "execution_count": null,
   "metadata": {},
   "outputs": [],
   "source": []
  }
 ],
 "metadata": {
  "kernelspec": {
   "display_name": "base",
   "language": "python",
   "name": "python3"
  },
  "language_info": {
   "codemirror_mode": {
    "name": "ipython",
    "version": 3
   },
   "file_extension": ".py",
   "mimetype": "text/x-python",
   "name": "python",
   "nbconvert_exporter": "python",
   "pygments_lexer": "ipython3",
   "version": "3.12.9"
  }
 },
 "nbformat": 4,
 "nbformat_minor": 2
}
